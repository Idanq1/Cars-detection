{
 "cells": [
  {
   "cell_type": "markdown",
   "id": "9b64e872-e59e-4dbd-b3fd-9add91a694a3",
   "metadata": {},
   "source": [
    "# Split Train to test and train"
   ]
  },
  {
   "cell_type": "code",
   "execution_count": 116,
   "id": "8917e820-ac7e-4789-8c9b-6182c29381d5",
   "metadata": {},
   "outputs": [],
   "source": [
    "import pandas as pd\n",
    "import numpy as np"
   ]
  },
  {
   "cell_type": "code",
   "execution_count": 117,
   "id": "bb5760dd-ecc3-4f34-83f9-6c5766594be2",
   "metadata": {},
   "outputs": [],
   "source": [
    "df = pd.read_csv(r\"Dataset/annots.csv\")\n",
    "images = df[\"image\"].unique()\n",
    "np.random.shuffle(images)\n",
    "split_index = int(len(images) * 0.8)\n",
    "train_images = images[:split_index]\n",
    "test_images = images[split_index:]\n",
    "\n",
    "train = df[df['image'].isin(train_images)].reset_index(drop=True)\n",
    "test = df[df['image'].isin(test_images)].reset_index(drop=True)"
   ]
  },
  {
   "cell_type": "code",
   "execution_count": 118,
   "id": "2f1c6249-53e3-4692-9368-4e70a277c3d2",
   "metadata": {},
   "outputs": [],
   "source": [
    "train.to_csv(\"train.csv\", index=False)\n",
    "test.to_csv(\"test.csv\", index=False)"
   ]
  },
  {
   "cell_type": "markdown",
   "id": "51008693-9f38-4d7e-b4c6-53cb385ca55b",
   "metadata": {},
   "source": [
    "### Split images to folders"
   ]
  },
  {
   "cell_type": "code",
   "execution_count": 119,
   "id": "a2b54ded-e52e-4f12-9af1-8e9481c2d775",
   "metadata": {},
   "outputs": [],
   "source": [
    "import shutil\n",
    "import random\n",
    "import os"
   ]
  },
  {
   "cell_type": "code",
   "execution_count": 120,
   "id": "451c2c87-5fbd-4d82-8f25-0b09ef120d63",
   "metadata": {},
   "outputs": [],
   "source": [
    "def move_images(images, type):\n",
    "    for image in images:\n",
    "        img_path = f\"Dataset//images//{image}\"\n",
    "        new_path = f\"Dataset//{type}//{image}\"\n",
    "        shutil.move(img_path, new_path)"
   ]
  },
  {
   "cell_type": "code",
   "execution_count": 121,
   "id": "05589252-99a6-4471-82f4-d77e1af8c4ed",
   "metadata": {},
   "outputs": [],
   "source": [
    "move_images(train_images, \"Train\")\n",
    "move_images(test_images, \"Test\")"
   ]
  },
  {
   "cell_type": "markdown",
   "id": "1d01c77a-8724-489a-ab1c-5d35a9e849a1",
   "metadata": {},
   "source": [
    "#### Split remaining unlabled images"
   ]
  },
  {
   "cell_type": "code",
   "execution_count": 122,
   "id": "114faa7f-8866-4ab3-9be8-4fb1cf002610",
   "metadata": {},
   "outputs": [],
   "source": [
    "img_p = r\"Dataset/images\"\n",
    "train_p = r\"Dataset/Train\"\n",
    "test_p = r\"Dataset/Test\"\n",
    "ratio = 0.8"
   ]
  },
  {
   "cell_type": "code",
   "execution_count": 123,
   "id": "af2a8196-6036-4796-8a2b-248974f9792d",
   "metadata": {},
   "outputs": [],
   "source": [
    "images = os.listdir(img_p)\n",
    "random.shuffle(images)\n",
    "img_len = len(images)\n",
    "train_num = int(img_len * ratio)\n",
    "train_images = images[:train_num]\n",
    "test_images = images[train_num:]"
   ]
  },
  {
   "cell_type": "code",
   "execution_count": 124,
   "id": "7cd50b65-d743-4019-9a1f-78ecf986a7fd",
   "metadata": {},
   "outputs": [],
   "source": [
    "move_images(train_images, \"Train\")\n",
    "move_images(test_images, \"Test\")"
   ]
  },
  {
   "cell_type": "code",
   "execution_count": null,
   "id": "2e258fe2-514e-40f5-a877-ed287dc19663",
   "metadata": {},
   "outputs": [],
   "source": []
  }
 ],
 "metadata": {
  "kernelspec": {
   "display_name": "Python 3 (ipykernel)",
   "language": "python",
   "name": "python3"
  },
  "language_info": {
   "codemirror_mode": {
    "name": "ipython",
    "version": 3
   },
   "file_extension": ".py",
   "mimetype": "text/x-python",
   "name": "python",
   "nbconvert_exporter": "python",
   "pygments_lexer": "ipython3",
   "version": "3.11.1"
  }
 },
 "nbformat": 4,
 "nbformat_minor": 5
}
